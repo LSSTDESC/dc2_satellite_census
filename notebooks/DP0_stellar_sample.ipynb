{
 "cells": [
  {
   "cell_type": "markdown",
   "metadata": {
    "nbpresent": {
     "id": "0789d321-e15e-44b8-b96e-34b4e993cf16"
    }
   },
   "source": [
    "# Quantifying a Stellar Sample in the DP0 Catalogs\n",
    "\n",
    "**S. Mau**, **A. Drlica-Wagner**\n",
    "\n",
    "Adapted from \"Looking at the \"Object Catalogs\": merged tract-patch catalogs in DC2 Run 1.1p\" by **Michael Wood-Vasey** ([@wmwv](https://github.com/LSSTDESC/DC2-analysis/issues/new?body=@wmwv)), with a version last verified to run: **2018-07-24**"
   ]
  },
  {
   "cell_type": "code",
   "execution_count": 21,
   "metadata": {
    "nbpresent": {
     "id": "69694b18-dcc8-463d-8e86-e4fcd572f680"
    }
   },
   "outputs": [],
   "source": [
    "import os\n",
    "\n",
    "import numpy as np\n",
    "\n",
    "%matplotlib inline \n",
    "import matplotlib.pyplot as plt\n",
    "\n",
    "import pandas as pd\n",
    "\n",
    "# Astropy\n",
    "from astropy import units as u\n",
    "from astropy.coordinates import SkyCoord\n",
    "\n",
    "import healpy as hp\n",
    "\n",
    "import fitsio as fits"
   ]
  },
  {
   "cell_type": "code",
   "execution_count": 2,
   "metadata": {
    "nbpresent": {
     "id": "a37e0a04-e349-4229-ba8a-bb96f857d68e"
    }
   },
   "outputs": [
    {
     "name": "stderr",
     "output_type": "stream",
     "text": [
      "/tmp/ipykernel_690/1160835803.py:5: DeprecationWarning: Call to deprecated function (or staticmethod) get_tap_service. (Please use lsst.rsp.get_tap_service())\n",
      "  service = get_tap_service()\n"
     ]
    },
    {
     "name": "stdout",
     "output_type": "stream",
     "text": [
      "\n",
      "    SELECT\n",
      "        obj.objectId, obj.ra, obj.dec,\n",
      "        obj.mag_g, obj.mag_r, obj.mag_i,\n",
      "        obj.magerr_g, obj.magerr_r, obj.magerr_i,\n",
      "        obj.tract, obj.patch, obj.extendedness, \n",
      "        obj.good, obj.clean,\n",
      "        truth.mag_r as truth_mag_r, truth.match_objectId, \n",
      "        truth.flux_g, truth.flux_r, truth.flux_i, truth.truth_type,\n",
      "        truth.match_sep\n",
      "    FROM dp01_dc2_catalogs.object as obj\n",
      "    JOIN dp01_dc2_catalogs.truth_match as truth\n",
      "    ON truth.match_objectId = obj.objectId\n",
      "    WHERE CONTAINS(POINT('ICRS', obj.ra, obj.dec),CIRCLE('ICRS', 62.0, -37.0, 1.0)) = 1\n",
      "    AND truth.match_objectId >= 0 \n",
      "    AND truth.is_good_match = 1\n",
      "\n"
     ]
    },
    {
     "name": "stderr",
     "output_type": "stream",
     "text": [
      "WARNING: UnitsWarning: Unit 'asec' not supported by the VOUnit standard. Did you mean arcsec? [astropy.units.format.vounit]\n"
     ]
    },
    {
     "data": {
      "text/html": [
       "<pre style=\"margin: 0.1em;\n",
       "padding-left: 0.25em;\n",
       "border-left-style: solid;\n",
       "font-family: var(--jp-code-font-family);\n",
       "font-size: var(--jp-code-font-size);\n",
       "line-height: var(--jp-code-line-height);\n",
       "\"><span style=\"color: var(--jp-warn-color2)\">astropy</span> <span style=\"color: var(--jp-warn-color0)\">WARNING</span>: UnitsWarning: Unit &#x27;asec&#x27; not supported by the VOUnit standard. Did you mean arcsec?</pre>"
      ],
      "text/plain": [
       "<IPython.core.display.HTML object>"
      ]
     },
     "metadata": {},
     "output_type": "display_data"
    },
    {
     "name": "stderr",
     "output_type": "stream",
     "text": [
      "WARNING: UnitsWarning: Unit 'asec' not supported by the VOUnit standard. Did you mean arcsec? [astropy.units.format.vounit]\n"
     ]
    },
    {
     "data": {
      "text/html": [
       "<pre style=\"margin: 0.1em;\n",
       "padding-left: 0.25em;\n",
       "border-left-style: solid;\n",
       "font-family: var(--jp-code-font-family);\n",
       "font-size: var(--jp-code-font-size);\n",
       "line-height: var(--jp-code-line-height);\n",
       "\"><span style=\"color: var(--jp-warn-color2)\">astropy</span> <span style=\"color: var(--jp-warn-color0)\">WARNING</span>: UnitsWarning: Unit &#x27;asec&#x27; not supported by the VOUnit standard. Did you mean arcsec?</pre>"
      ],
      "text/plain": [
       "<IPython.core.display.HTML object>"
      ]
     },
     "metadata": {},
     "output_type": "display_data"
    }
   ],
   "source": [
    "# Import the Rubin TAP service utilities\n",
    "from rubin_jupyter_utils.lab.notebook import get_tap_service, retrieve_query\n",
    "\n",
    "# Get an instance of the TAP service\n",
    "service = get_tap_service()\n",
    "assert service is not None\n",
    "assert service.baseurl == \"https://data.lsst.cloud/api/tap\"\n",
    "\n",
    "# Define our reference position on the sky and cone radius in arcseconds\n",
    "# to use in all following examples\n",
    "coord = SkyCoord(ra=62.0*u.degree, dec=-37.0*u.degree, frame='icrs')\n",
    "radius = 1. * u.deg\n",
    "\n",
    "query = f\"\"\"\n",
    "    SELECT\n",
    "        obj.objectId, obj.ra, obj.dec,\n",
    "        obj.mag_g, obj.mag_r, obj.mag_i,\n",
    "        obj.magerr_g, obj.magerr_r, obj.magerr_i,\n",
    "        obj.tract, obj.patch, obj.extendedness, \n",
    "        obj.good, obj.clean,\n",
    "        truth.mag_r as truth_mag_r, truth.match_objectId, \n",
    "        truth.flux_g, truth.flux_r, truth.flux_i, truth.truth_type,\n",
    "        truth.match_sep\n",
    "    FROM dp01_dc2_catalogs.object as obj\n",
    "    JOIN dp01_dc2_catalogs.truth_match as truth\n",
    "    ON truth.match_objectId = obj.objectId\n",
    "    WHERE CONTAINS(POINT('ICRS', obj.ra, obj.dec),CIRCLE('ICRS', {coord.ra.value}, {coord.dec.value}, {radius.value})) = 1\n",
    "    AND truth.match_objectId >= 0 \n",
    "    AND truth.is_good_match = 1\n",
    "\"\"\"\n",
    "\n",
    "query_truth = f\"\"\"\n",
    "    SELECT\n",
    "        truth.match_objectId, truth.ra, truth.dec,\n",
    "        truth.mag_r as truth_mag_r,\n",
    "        truth.tract, truth.patch,\n",
    "        truth.flux_g, truth.flux_r, truth.flux_i, truth.truth_type,\n",
    "        truth.match_sep\n",
    "    FROM dp01_dc2_catalogs.truth_match as truth\n",
    "    WHERE CONTAINS(POINT('ICRS', truth.ra, truth.dec),CIRCLE('ICRS', {coord.ra.value}, {coord.dec.value}, {radius.value})) = 1\n",
    "\"\"\"\n",
    "    \n",
    "print(query)\n",
    "\n",
    "# For more detailed analysis of results, converting\n",
    "# to a pandas dataframe is often very useful\n",
    "df = service.search(query).to_table().to_pandas()\n",
    "df_truth = service.search(query_truth).to_table().to_pandas()"
   ]
  },
  {
   "cell_type": "code",
   "execution_count": 3,
   "metadata": {
    "nbpresent": {
     "id": "f27a27c2-5123-420c-8cce-a0242b0b9966"
    }
   },
   "outputs": [
    {
     "name": "stdout",
     "output_type": "stream",
     "text": [
      "1501582 objects\n"
     ]
    }
   ],
   "source": [
    "print(len(df), \"objects\")"
   ]
  },
  {
   "cell_type": "code",
   "execution_count": 4,
   "metadata": {},
   "outputs": [
    {
     "name": "stdout",
     "output_type": "stream",
     "text": [
      "6887900 truth objects\n"
     ]
    }
   ],
   "source": [
    "print(len(df_truth), \"truth objects\")"
   ]
  },
  {
   "cell_type": "markdown",
   "metadata": {},
   "source": [
    "# Paramaterization of completeness function and magnitute uncertainty"
   ]
  },
  {
   "cell_type": "markdown",
   "metadata": {},
   "source": [
    "# Select good stars"
   ]
  },
  {
   "cell_type": "code",
   "execution_count": 5,
   "metadata": {},
   "outputs": [
    {
     "data": {
      "text/html": [
       "<pre style=\"margin: 0.1em;\n",
       "padding-left: 0.25em;\n",
       "border-left-style: solid;\n",
       "font-family: var(--jp-code-font-family);\n",
       "font-size: var(--jp-code-font-size);\n",
       "line-height: var(--jp-code-line-height);\n",
       "\"><span style=\"color: var(--jp-warn-color2)\">numexpr.utils</span> <span style=\"color: var(--jp-info-color0)\">INFO</span>: Note: NumExpr detected 32 cores but &quot;NUMEXPR_MAX_THREADS&quot; not set, so enforcing safe limit of 8.</pre>"
      ],
      "text/plain": [
       "<IPython.core.display.HTML object>"
      ]
     },
     "metadata": {},
     "output_type": "display_data"
    },
    {
     "data": {
      "text/html": [
       "<pre style=\"margin: 0.1em;\n",
       "padding-left: 0.25em;\n",
       "border-left-style: solid;\n",
       "font-family: var(--jp-code-font-family);\n",
       "font-size: var(--jp-code-font-size);\n",
       "line-height: var(--jp-code-line-height);\n",
       "\"><span style=\"color: var(--jp-warn-color2)\">numexpr.utils</span> <span style=\"color: var(--jp-info-color0)\">INFO</span>: NumExpr defaulting to 8 threads.</pre>"
      ],
      "text/plain": [
       "<IPython.core.display.HTML object>"
      ]
     },
     "metadata": {},
     "output_type": "display_data"
    }
   ],
   "source": [
    "# Matched objects passing S/N threshold\n",
    "snr_threshold = 5\n",
    "mag_err_threshold = 1/snr_threshold\n",
    "good_snr = df[(df['magerr_g'] < mag_err_threshold) & (df['magerr_r'] < mag_err_threshold)]"
   ]
  },
  {
   "cell_type": "code",
   "execution_count": 6,
   "metadata": {},
   "outputs": [],
   "source": [
    "# Matched objects with truth class of stars\n",
    "true_stars = df[df['truth_type'] == 2]"
   ]
  },
  {
   "cell_type": "code",
   "execution_count": 7,
   "metadata": {},
   "outputs": [],
   "source": [
    "# Matched objects classified as stars (and galaxies)\n",
    "safe_max_extended = 1.0\n",
    "stars = good_snr[good_snr['extendedness'] < safe_max_extended]\n",
    "galaxies = good_snr[good_snr['extendedness'] >= safe_max_extended]"
   ]
  },
  {
   "cell_type": "code",
   "execution_count": 8,
   "metadata": {},
   "outputs": [],
   "source": [
    "# Matched objects correctly classified as stars\n",
    "match_stars_class = stars[np.in1d(stars['objectId'],true_stars['objectId'])]\n",
    "\n",
    "# True stars\n",
    "truth_stars = df_truth[df_truth['truth_type'] == 2]"
   ]
  },
  {
   "cell_type": "code",
   "execution_count": 9,
   "metadata": {},
   "outputs": [
    {
     "name": "stderr",
     "output_type": "stream",
     "text": [
      "/tmp/ipykernel_690/3346687629.py:19: RuntimeWarning: invalid value encountered in true_divide\n",
      "  plt.plot(centers, nstar_class/ntot_true_star, label='stellar classification eff')  # matched objects correctly classified as stars / matched objects with truth class of stars\n"
     ]
    },
    {
     "data": {
      "text/plain": [
       "<matplotlib.legend.Legend at 0x7fcb47a6f520>"
      ]
     },
     "execution_count": 9,
     "metadata": {},
     "output_type": "execute_result"
    },
    {
     "data": {
      "image/png": "[encoded data removed]",
      "text/plain": [
       "<Figure size 432x288 with 1 Axes>"
      ]
     },
     "metadata": {
      "needs_background": "light"
     },
     "output_type": "display_data"
    }
   ],
   "source": [
    "bins = np.linspace(16,27,100)\n",
    "centers = (bins[1:]+bins[:-1])/2.\n",
    "\n",
    "# Counts of true stars\n",
    "ntot_truth, _ = np.histogram(truth_stars['truth_mag_r'],bins=bins)\n",
    "\n",
    "# Counts of matched objects\n",
    "ntot, _ = np.histogram(df['truth_mag_r'],bins=bins)\n",
    "\n",
    "# Counts of matched objects classified as stars\n",
    "ntot_star, _ = np.histogram(stars['truth_mag_r'],bins=bins)\n",
    "\n",
    "# Counts of matched objects with truth class of stars\n",
    "ntot_true_star, _ = np.histogram(true_stars['truth_mag_r'],bins=bins)\n",
    "\n",
    "# Counts of matched objects correctly classified as stars\n",
    "nstar_class,_ = np.histogram(match_stars_class['truth_mag_r'],bins=bins)\n",
    "\n",
    "plt.plot(centers, nstar_class/ntot_true_star, label='stellar classification eff')  # matched objects correctly classified as stars / matched objects with truth class of stars\n",
    "plt.plot(centers, ntot_true_star/ntot_truth, label='stellar detection eff')  # matched objects with truth class of stars / true stars\n",
    "plt.plot(centers, nstar_class/ntot_truth, label='detected & classified eff')  # matched objects correctly classified as stars / true stars\n",
    "plt.legend()\n",
    "\n",
    "# SM: note that if `mag_r` is used instead of `truth_mag_r`, then some of the\n",
    "#     bins will have values above 1 due to inaccurate mag measurements"
   ]
  },
  {
   "cell_type": "code",
   "execution_count": 20,
   "metadata": {},
   "outputs": [
    {
     "name": "stdout",
     "output_type": "stream",
     "text": [
      "mag, stellar classification eff, stellar detection eff, detected & classified eff\n"
     ]
    },
    {
     "name": "stderr",
     "output_type": "stream",
     "text": [
      "/tmp/ipykernel_690/2394372331.py:3: RuntimeWarning: invalid value encountered in true_divide\n",
      "  nstar_class/ntot_true_star,\n"
     ]
    }
   ],
   "source": [
    "print(\"mag, stellar classification eff, stellar detection eff, detected & classified eff\")\n",
    "out = np.array([centers,\n",
    "                nstar_class/ntot_true_star,\n",
    "                ntot_true_star/ntot_truth,\n",
    "                nstar_class/ntot_truth]).T\n",
    "# print(out)\n",
    "np.savetxt('eff.csv', out, delimiter=',', header='mag,classifiction_eff,detection_eff,classification_detection_eff')"
   ]
  },
  {
   "cell_type": "code",
   "execution_count": 29,
   "metadata": {
    "tags": []
   },
   "outputs": [
    {
     "data": {
      "text/html": [
       "<pre style=\"margin: 0.1em;\n",
       "padding-left: 0.25em;\n",
       "border-left-style: solid;\n",
       "font-family: var(--jp-code-font-family);\n",
       "font-size: var(--jp-code-font-size);\n",
       "line-height: var(--jp-code-line-height);\n",
       "\"><span style=\"color: var(--jp-warn-color2)\">healpy</span> <span style=\"color: var(--jp-info-color0)\">INFO</span>: NSIDE = 4096</pre>"
      ],
      "text/plain": [
       "<IPython.core.display.HTML object>"
      ]
     },
     "metadata": {},
     "output_type": "display_data"
    },
    {
     "data": {
      "text/html": [
       "<pre style=\"margin: 0.1em;\n",
       "padding-left: 0.25em;\n",
       "border-left-style: solid;\n",
       "font-family: var(--jp-code-font-family);\n",
       "font-size: var(--jp-code-font-size);\n",
       "line-height: var(--jp-code-line-height);\n",
       "\"><span style=\"color: var(--jp-warn-color2)\">healpy</span> <span style=\"color: var(--jp-info-color0)\">INFO</span>: ORDERING = RING in fits file</pre>"
      ],
      "text/plain": [
       "<IPython.core.display.HTML object>"
      ]
     },
     "metadata": {},
     "output_type": "display_data"
    },
    {
     "data": {
      "text/html": [
       "<pre style=\"margin: 0.1em;\n",
       "padding-left: 0.25em;\n",
       "border-left-style: solid;\n",
       "font-family: var(--jp-code-font-family);\n",
       "font-size: var(--jp-code-font-size);\n",
       "line-height: var(--jp-code-line-height);\n",
       "\"><span style=\"color: var(--jp-warn-color2)\">healpy</span> <span style=\"color: var(--jp-info-color0)\">INFO</span>: INDXSCHM = IMPLICIT</pre>"
      ],
      "text/plain": [
       "<IPython.core.display.HTML object>"
      ]
     },
     "metadata": {},
     "output_type": "display_data"
    }
   ],
   "source": [
    "maglim_r = hp.read_map('/home/sidneymau/WORK/satsim/supreme_dc2_dr6d_v3_r_maglim_psf_wmean.fits.gz')"
   ]
  },
  {
   "cell_type": "code",
   "execution_count": 50,
   "metadata": {},
   "outputs": [
    {
     "data": {
      "text/plain": [
       "26.791002"
      ]
     },
     "execution_count": 50,
     "metadata": {},
     "output_type": "execute_result"
    }
   ],
   "source": [
    "# find the maglim at the point we queried. we'll want to do this more dynamically in the future...\n",
    "maglim_r[hp.ang2pix(4096, 62, -37, lonlat=True)]"
   ]
  },
  {
   "cell_type": "code",
   "execution_count": 56,
   "metadata": {},
   "outputs": [
    {
     "data": {
      "text/plain": [
       "<matplotlib.lines.Line2D at 0x7fcb3c0e46a0>"
      ]
     },
     "execution_count": 56,
     "metadata": {},
     "output_type": "execute_result"
    },
    {
     "data": {
      "image/png": "[encoded data removed]",
      "text/plain": [
       "<Figure size 432x288 with 1 Axes>"
      ]
     },
     "metadata": {
      "needs_background": "light"
     },
     "output_type": "display_data"
    }
   ],
   "source": [
    "delta_mag_r = np.histogram(true_stars['truth_mag_r']-maglim_r[hp.ang2pix(4096, 62, -37, lonlat=True)], bins=100)[1]\n",
    "indices = np.digitize(true_stars['truth_mag_r']-maglim_r[hp.ang2pix(4096, 62, -37, lonlat=True)], delta_mag_r)\n",
    "magerr_r = np.asarray([np.nanmedian(true_stars['magerr_r'][indices == idx]) for idx in np.unique(indices)])\n",
    "\n",
    "from matplotlib.colors import LogNorm\n",
    "# we are using `truth_mag_r` because we're using these photometric error models\n",
    "# to generate simulations which will then be used to generate realistic photometry\n",
    "plt.hist2d(true_stars['truth_mag_r']-maglim_r[hp.ang2pix(4096, 62, -37, lonlat=True)],np.log10(true_stars['magerr_r']),bins=100,norm=LogNorm(),range=[[-11, 3], [-4.1, 0.2]], cmap='binary')\n",
    "plt.plot(delta_mag_r, np.log10(magerr_r), c='r')\n",
    "plt.xlabel('delta mag (r)'); plt.ylabel('log mag err (r)')\n",
    "plt.axhline(0.1085,ls='--',color='k',lw=2)"
   ]
  },
  {
   "cell_type": "code",
   "execution_count": 52,
   "metadata": {},
   "outputs": [
    {
     "name": "stdout",
     "output_type": "stream",
     "text": [
      "delta_mag, log_mag_err\n"
     ]
    }
   ],
   "source": [
    "print(\"delta_mag, log_mag_err\")\n",
    "out = np.array([delta_mag_r,\n",
    "                np.log10(magerr_r)]).T\n",
    "# print(out)\n",
    "np.savetxt('phot.csv', out, delimiter=',', header='delta_mag,log_mag_err')"
   ]
  },
  {
   "cell_type": "code",
   "execution_count": null,
   "metadata": {},
   "outputs": [],
   "source": []
  }
 ],
 "metadata": {
  "kernelspec": {
   "display_name": "LSST",
   "language": "python",
   "name": "lsst"
  },
  "language_info": {
   "codemirror_mode": {
    "name": "ipython",
    "version": 3
   },
   "file_extension": ".py",
   "mimetype": "text/x-python",
   "name": "python",
   "nbconvert_exporter": "python",
   "pygments_lexer": "ipython3",
   "version": "3.8.8"
  }
 },
 "nbformat": 4,
 "nbformat_minor": 4
}
