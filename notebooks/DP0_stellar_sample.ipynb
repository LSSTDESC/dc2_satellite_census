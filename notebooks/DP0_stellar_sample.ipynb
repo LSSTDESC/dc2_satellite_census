{
 "cells": [
  {
   "cell_type": "markdown",
   "metadata": {
    "nbpresent": {
     "id": "0789d321-e15e-44b8-b96e-34b4e993cf16"
    }
   },
   "source": [
    "# Quantifying a Stellar Sample in the DP0 Catalogs\n",
    "\n",
    "**S. Mau**, **A. Drlica-Wagner**\n",
    "\n",
    "Adapted from \"Looking at the \"Object Catalogs\": merged tract-patch catalogs in DC2 Run 1.1p\" by **Michael Wood-Vasey** ([@wmwv](https://github.com/LSSTDESC/DC2-analysis/issues/new?body=@wmwv)), with a version last verified to run: **2018-07-24**"
   ]
  },
  {
   "cell_type": "code",
   "execution_count": 1,
   "metadata": {
    "execution": {
     "iopub.execute_input": "2024-06-05T01:32:37.448982Z",
     "iopub.status.busy": "2024-06-05T01:32:37.448662Z",
     "iopub.status.idle": "2024-06-05T01:32:38.696167Z",
     "shell.execute_reply": "2024-06-05T01:32:38.695460Z",
     "shell.execute_reply.started": "2024-06-05T01:32:37.448964Z"
    },
    "nbpresent": {
     "id": "69694b18-dcc8-463d-8e86-e4fcd572f680"
    }
   },
   "outputs": [],
   "source": [
    "import os\n",
    "\n",
    "import numpy as np\n",
    "\n",
    "%matplotlib inline \n",
    "import matplotlib.pyplot as plt\n",
    "\n",
    "import pandas as pd\n",
    "\n",
    "# Astropy\n",
    "from astropy import units as u\n",
    "from astropy.coordinates import SkyCoord\n",
    "\n",
    "import healpy as hp\n",
    "\n",
    "import fitsio as fits"
   ]
  },
  {
   "cell_type": "code",
   "execution_count": 2,
   "metadata": {
    "execution": {
     "iopub.execute_input": "2024-06-05T01:32:38.697754Z",
     "iopub.status.busy": "2024-06-05T01:32:38.697091Z",
     "iopub.status.idle": "2024-06-05T01:38:06.558913Z",
     "shell.execute_reply": "2024-06-05T01:38:06.557673Z",
     "shell.execute_reply.started": "2024-06-05T01:32:38.697731Z"
    },
    "nbpresent": {
     "id": "a37e0a04-e349-4229-ba8a-bb96f857d68e"
    }
   },
   "outputs": [
    {
     "name": "stderr",
     "output_type": "stream",
     "text": [
      "/tmp/ipykernel_7990/2058462196.py:5: DeprecationWarning: get_tap_service() is deprecated, use get_tap_service(\"tap\")\n",
      "  service = get_tap_service()\n"
     ]
    },
    {
     "name": "stdout",
     "output_type": "stream",
     "text": [
      "\n",
      "    SELECT\n",
      "        obj.objectId, obj.ra, obj.dec,\n",
      "        obj.mag_g, obj.mag_r, obj.mag_i,\n",
      "        obj.magerr_g, obj.magerr_r, obj.magerr_i,\n",
      "        obj.tract, obj.patch, obj.extendedness, \n",
      "        obj.good, obj.clean,\n",
      "        truth.mag_r as truth_mag_r, truth.match_objectId, \n",
      "        truth.flux_g, truth.flux_r, truth.flux_i, truth.truth_type,\n",
      "        truth.match_sep\n",
      "    FROM dp01_dc2_catalogs.object as obj\n",
      "    JOIN dp01_dc2_catalogs.truth_match as truth\n",
      "    ON truth.match_objectId = obj.objectId\n",
      "    WHERE CONTAINS(POINT('ICRS', obj.ra, obj.dec),CIRCLE('ICRS', 62.0, -37.0, 1.0)) = 1\n",
      "    AND truth.match_objectId >= 0 \n",
      "    AND truth.is_good_match = 1\n",
      "\n"
     ]
    }
   ],
   "source": [
    "# Import the Rubin TAP service utilities\n",
    "from lsst.rsp import get_tap_service\n",
    "\n",
    "# Get an instance of the TAP service\n",
    "service = get_tap_service()\n",
    "assert service is not None\n",
    "assert service.baseurl == \"https://data.lsst.cloud/api/tap\"\n",
    "\n",
    "# Define our reference position on the sky and cone radius in arcseconds\n",
    "# to use in all following examples\n",
    "coord = SkyCoord(ra=62.0*u.degree, dec=-37.0*u.degree, frame='icrs')\n",
    "radius = 1. * u.deg\n",
    "\n",
    "query = f\"\"\"\n",
    "    SELECT\n",
    "        obj.objectId, obj.ra, obj.dec,\n",
    "        obj.mag_g, obj.mag_r, obj.mag_i,\n",
    "        obj.magerr_g, obj.magerr_r, obj.magerr_i,\n",
    "        obj.tract, obj.patch, obj.extendedness, \n",
    "        obj.good, obj.clean,\n",
    "        truth.mag_r as truth_mag_r, truth.match_objectId, \n",
    "        truth.flux_g, truth.flux_r, truth.flux_i, truth.truth_type,\n",
    "        truth.match_sep\n",
    "    FROM dp01_dc2_catalogs.object as obj\n",
    "    JOIN dp01_dc2_catalogs.truth_match as truth\n",
    "    ON truth.match_objectId = obj.objectId\n",
    "    WHERE CONTAINS(POINT('ICRS', obj.ra, obj.dec),CIRCLE('ICRS', {coord.ra.value}, {coord.dec.value}, {radius.value})) = 1\n",
    "    AND truth.match_objectId >= 0 \n",
    "    AND truth.is_good_match = 1\n",
    "\"\"\"\n",
    "\n",
    "query_truth = f\"\"\"\n",
    "    SELECT\n",
    "        truth.match_objectId, truth.ra, truth.dec,\n",
    "        truth.mag_r as truth_mag_r,\n",
    "        truth.tract, truth.patch,\n",
    "        truth.flux_g, truth.flux_r, truth.flux_i, truth.truth_type,\n",
    "        truth.match_sep\n",
    "    FROM dp01_dc2_catalogs.truth_match as truth\n",
    "    WHERE CONTAINS(POINT('ICRS', truth.ra, truth.dec),CIRCLE('ICRS', {coord.ra.value}, {coord.dec.value}, {radius.value})) = 1\n",
    "\"\"\"\n",
    "    \n",
    "print(query)\n",
    "\n",
    "# For more detailed analysis of results, converting\n",
    "# to a pandas dataframe is often very useful\n",
    "df = service.search(query).to_table().to_pandas()\n",
    "df_truth = service.search(query_truth).to_table().to_pandas()"
   ]
  },
  {
   "cell_type": "code",
   "execution_count": 3,
   "metadata": {
    "execution": {
     "iopub.execute_input": "2024-06-05T01:38:06.560474Z",
     "iopub.status.busy": "2024-06-05T01:38:06.560167Z",
     "iopub.status.idle": "2024-06-05T01:38:06.565473Z",
     "shell.execute_reply": "2024-06-05T01:38:06.564560Z",
     "shell.execute_reply.started": "2024-06-05T01:38:06.560446Z"
    },
    "nbpresent": {
     "id": "f27a27c2-5123-420c-8cce-a0242b0b9966"
    }
   },
   "outputs": [
    {
     "name": "stdout",
     "output_type": "stream",
     "text": [
      "1501582 objects\n"
     ]
    }
   ],
   "source": [
    "print(len(df), \"objects\")"
   ]
  },
  {
   "cell_type": "code",
   "execution_count": 4,
   "metadata": {
    "execution": {
     "iopub.execute_input": "2024-06-05T01:38:06.566868Z",
     "iopub.status.busy": "2024-06-05T01:38:06.566656Z",
     "iopub.status.idle": "2024-06-05T01:38:06.581986Z",
     "shell.execute_reply": "2024-06-05T01:38:06.581249Z",
     "shell.execute_reply.started": "2024-06-05T01:38:06.566851Z"
    }
   },
   "outputs": [
    {
     "name": "stdout",
     "output_type": "stream",
     "text": [
      "6887900 truth objects\n"
     ]
    }
   ],
   "source": [
    "print(len(df_truth), \"truth objects\")"
   ]
  },
  {
   "cell_type": "markdown",
   "metadata": {},
   "source": [
    "# Paramaterization of completeness function and magnitute uncertainty"
   ]
  },
  {
   "cell_type": "markdown",
   "metadata": {},
   "source": [
    "# Select good stars"
   ]
  },
  {
   "cell_type": "code",
   "execution_count": 5,
   "metadata": {
    "execution": {
     "iopub.execute_input": "2024-06-05T01:38:06.582989Z",
     "iopub.status.busy": "2024-06-05T01:38:06.582794Z",
     "iopub.status.idle": "2024-06-05T01:38:06.661849Z",
     "shell.execute_reply": "2024-06-05T01:38:06.660916Z",
     "shell.execute_reply.started": "2024-06-05T01:38:06.582964Z"
    }
   },
   "outputs": [],
   "source": [
    "# Matched objects passing S/N threshold\n",
    "snr_threshold = 5\n",
    "mag_err_threshold = 1/snr_threshold\n",
    "good_snr = df[(df['magerr_g'] < mag_err_threshold) & (df['magerr_r'] < mag_err_threshold)]"
   ]
  },
  {
   "cell_type": "code",
   "execution_count": 6,
   "metadata": {
    "execution": {
     "iopub.execute_input": "2024-06-05T01:38:06.663061Z",
     "iopub.status.busy": "2024-06-05T01:38:06.662826Z",
     "iopub.status.idle": "2024-06-05T01:38:06.679106Z",
     "shell.execute_reply": "2024-06-05T01:38:06.678355Z",
     "shell.execute_reply.started": "2024-06-05T01:38:06.663044Z"
    }
   },
   "outputs": [],
   "source": [
    "# Matched objects with truth class of stars\n",
    "true_stars = df[df['truth_type'] == 2]"
   ]
  },
  {
   "cell_type": "code",
   "execution_count": 7,
   "metadata": {
    "execution": {
     "iopub.execute_input": "2024-06-05T01:38:06.680463Z",
     "iopub.status.busy": "2024-06-05T01:38:06.680181Z",
     "iopub.status.idle": "2024-06-05T01:38:06.752592Z",
     "shell.execute_reply": "2024-06-05T01:38:06.751657Z",
     "shell.execute_reply.started": "2024-06-05T01:38:06.680444Z"
    }
   },
   "outputs": [],
   "source": [
    "# Matched objects classified as stars (and galaxies)\n",
    "safe_max_extended = 1.0\n",
    "stars = good_snr[good_snr['extendedness'] < safe_max_extended]\n",
    "galaxies = good_snr[good_snr['extendedness'] >= safe_max_extended]"
   ]
  },
  {
   "cell_type": "code",
   "execution_count": 8,
   "metadata": {
    "execution": {
     "iopub.execute_input": "2024-06-05T01:38:06.753835Z",
     "iopub.status.busy": "2024-06-05T01:38:06.753596Z",
     "iopub.status.idle": "2024-06-05T01:38:06.794678Z",
     "shell.execute_reply": "2024-06-05T01:38:06.793764Z",
     "shell.execute_reply.started": "2024-06-05T01:38:06.753815Z"
    }
   },
   "outputs": [],
   "source": [
    "# Matched objects correctly classified as stars\n",
    "match_stars_class = stars[np.in1d(stars['objectId'],true_stars['objectId'])]\n",
    "\n",
    "# True stars\n",
    "truth_stars = df_truth[df_truth['truth_type'] == 2]"
   ]
  },
  {
   "cell_type": "code",
   "execution_count": 9,
   "metadata": {
    "execution": {
     "iopub.execute_input": "2024-06-05T01:38:06.795981Z",
     "iopub.status.busy": "2024-06-05T01:38:06.795747Z",
     "iopub.status.idle": "2024-06-05T01:38:07.047873Z",
     "shell.execute_reply": "2024-06-05T01:38:07.047033Z",
     "shell.execute_reply.started": "2024-06-05T01:38:06.795958Z"
    }
   },
   "outputs": [
    {
     "name": "stderr",
     "output_type": "stream",
     "text": [
      "/tmp/ipykernel_7990/3346687629.py:19: RuntimeWarning: invalid value encountered in divide\n",
      "  plt.plot(centers, nstar_class/ntot_true_star, label='stellar classification eff')  # matched objects correctly classified as stars / matched objects with truth class of stars\n"
     ]
    },
    {
     "data": {
      "text/plain": [
       "<matplotlib.legend.Legend at 0x7e1f460dfb90>"
      ]
     },
     "execution_count": 9,
     "metadata": {},
     "output_type": "execute_result"
    },
    {
     "data": {
      "image/png": "[encoded data removed]",
      "text/plain": [
       "<Figure size 640x480 with 1 Axes>"
      ]
     },
     "metadata": {},
     "output_type": "display_data"
    }
   ],
   "source": [
    "bins = np.linspace(16,27,100)\n",
    "centers = (bins[1:]+bins[:-1])/2.\n",
    "\n",
    "# Counts of true stars\n",
    "ntot_truth, _ = np.histogram(truth_stars['truth_mag_r'],bins=bins)\n",
    "\n",
    "# Counts of matched objects\n",
    "ntot, _ = np.histogram(df['truth_mag_r'],bins=bins)\n",
    "\n",
    "# Counts of matched objects classified as stars\n",
    "ntot_star, _ = np.histogram(stars['truth_mag_r'],bins=bins)\n",
    "\n",
    "# Counts of matched objects with truth class of stars\n",
    "ntot_true_star, _ = np.histogram(true_stars['truth_mag_r'],bins=bins)\n",
    "\n",
    "# Counts of matched objects correctly classified as stars\n",
    "nstar_class,_ = np.histogram(match_stars_class['truth_mag_r'],bins=bins)\n",
    "\n",
    "plt.plot(centers, nstar_class/ntot_true_star, label='stellar classification eff')  # matched objects correctly classified as stars / matched objects with truth class of stars\n",
    "plt.plot(centers, ntot_true_star/ntot_truth, label='stellar detection eff')  # matched objects with truth class of stars / true stars\n",
    "plt.plot(centers, nstar_class/ntot_truth, label='detected & classified eff')  # matched objects correctly classified as stars / true stars\n",
    "plt.legend()\n",
    "\n",
    "# SM: note that if `mag_r` is used instead of `truth_mag_r`, then some of the\n",
    "#     bins will have values above 1 due to inaccurate mag measurements"
   ]
  },
  {
   "cell_type": "code",
   "execution_count": 10,
   "metadata": {
    "execution": {
     "iopub.execute_input": "2024-06-05T01:38:07.049106Z",
     "iopub.status.busy": "2024-06-05T01:38:07.048872Z",
     "iopub.status.idle": "2024-06-05T01:38:07.062334Z",
     "shell.execute_reply": "2024-06-05T01:38:07.061507Z",
     "shell.execute_reply.started": "2024-06-05T01:38:07.049090Z"
    }
   },
   "outputs": [
    {
     "name": "stdout",
     "output_type": "stream",
     "text": [
      "mag, stellar classification eff, stellar detection eff, detected & classified eff\n"
     ]
    },
    {
     "name": "stderr",
     "output_type": "stream",
     "text": [
      "/tmp/ipykernel_7990/2394372331.py:3: RuntimeWarning: invalid value encountered in divide\n",
      "  nstar_class/ntot_true_star,\n"
     ]
    }
   ],
   "source": [
    "print(\"mag, stellar classification eff, stellar detection eff, detected & classified eff\")\n",
    "out = np.array([centers,\n",
    "                nstar_class/ntot_true_star,\n",
    "                ntot_true_star/ntot_truth,\n",
    "                nstar_class/ntot_truth]).T\n",
    "# print(out)\n",
    "np.savetxt('eff.csv', out, delimiter=',', header='mag,classifiction_eff,detection_eff,classification_detection_eff')"
   ]
  },
  {
   "cell_type": "code",
   "execution_count": 11,
   "metadata": {
    "execution": {
     "iopub.execute_input": "2024-06-05T01:38:07.063465Z",
     "iopub.status.busy": "2024-06-05T01:38:07.063266Z",
     "iopub.status.idle": "2024-06-05T01:38:11.414024Z",
     "shell.execute_reply": "2024-06-05T01:38:11.413001Z",
     "shell.execute_reply.started": "2024-06-05T01:38:07.063449Z"
    },
    "tags": []
   },
   "outputs": [],
   "source": [
    "maglim_r = hp.read_map('/project/shared/data/satsim/supreme_dc2_dr6d_v3_r_maglim_psf_wmean.fits.gz')"
   ]
  },
  {
   "cell_type": "code",
   "execution_count": 12,
   "metadata": {
    "execution": {
     "iopub.execute_input": "2024-06-05T01:38:11.415419Z",
     "iopub.status.busy": "2024-06-05T01:38:11.415141Z",
     "iopub.status.idle": "2024-06-05T01:38:11.420881Z",
     "shell.execute_reply": "2024-06-05T01:38:11.420127Z",
     "shell.execute_reply.started": "2024-06-05T01:38:11.415399Z"
    }
   },
   "outputs": [
    {
     "data": {
      "text/plain": [
       "26.791002"
      ]
     },
     "execution_count": 12,
     "metadata": {},
     "output_type": "execute_result"
    }
   ],
   "source": [
    "# find the maglim at the point we queried. we'll want to do this more dynamically in the future...\n",
    "maglim_r[hp.ang2pix(4096, 62, -37, lonlat=True)]"
   ]
  },
  {
   "cell_type": "code",
   "execution_count": 13,
   "metadata": {
    "execution": {
     "iopub.execute_input": "2024-06-05T01:38:11.422025Z",
     "iopub.status.busy": "2024-06-05T01:38:11.421816Z",
     "iopub.status.idle": "2024-06-05T01:38:11.636595Z",
     "shell.execute_reply": "2024-06-05T01:38:11.635753Z",
     "shell.execute_reply.started": "2024-06-05T01:38:11.422009Z"
    }
   },
   "outputs": [
    {
     "data": {
      "text/plain": [
       "<matplotlib.lines.Line2D at 0x7e1fb27c98d0>"
      ]
     },
     "execution_count": 13,
     "metadata": {},
     "output_type": "execute_result"
    },
    {
     "data": {
      "image/png": "[encoded data removed]",
      "text/plain": [
       "<Figure size 640x480 with 1 Axes>"
      ]
     },
     "metadata": {},
     "output_type": "display_data"
    }
   ],
   "source": [
    "delta_mag_r = np.histogram(true_stars['truth_mag_r']-maglim_r[hp.ang2pix(4096, 62, -37, lonlat=True)], bins=100)[1]\n",
    "indices = np.digitize(true_stars['truth_mag_r']-maglim_r[hp.ang2pix(4096, 62, -37, lonlat=True)], delta_mag_r)\n",
    "magerr_r = np.asarray([np.nanmedian(true_stars['magerr_r'][indices == idx]) for idx in np.unique(indices)])\n",
    "\n",
    "from matplotlib.colors import LogNorm\n",
    "# we are using `truth_mag_r` because we're using these photometric error models\n",
    "# to generate simulations which will then be used to generate realistic photometry\n",
    "plt.hist2d(true_stars['truth_mag_r']-maglim_r[hp.ang2pix(4096, 62, -37, lonlat=True)],np.log10(true_stars['magerr_r']),bins=100,norm=LogNorm(),range=[[-11, 3], [-4.1, 0.2]], cmap='binary')\n",
    "plt.plot(delta_mag_r, np.log10(magerr_r), c='r')\n",
    "plt.xlabel('delta mag (r)'); plt.ylabel('log mag err (r)')\n",
    "plt.axhline(0.1085,ls='--',color='k',lw=2)"
   ]
  },
  {
   "cell_type": "code",
   "execution_count": 14,
   "metadata": {
    "execution": {
     "iopub.execute_input": "2024-06-05T01:38:11.637832Z",
     "iopub.status.busy": "2024-06-05T01:38:11.637592Z",
     "iopub.status.idle": "2024-06-05T01:38:11.650696Z",
     "shell.execute_reply": "2024-06-05T01:38:11.650002Z",
     "shell.execute_reply.started": "2024-06-05T01:38:11.637814Z"
    }
   },
   "outputs": [
    {
     "name": "stdout",
     "output_type": "stream",
     "text": [
      "delta_mag, log_mag_err\n"
     ]
    }
   ],
   "source": [
    "print(\"delta_mag, log_mag_err\")\n",
    "out = np.array([delta_mag_r,\n",
    "                np.log10(magerr_r)]).T\n",
    "# print(out)\n",
    "np.savetxt('phot.csv', out, delimiter=',', header='delta_mag,log_mag_err')"
   ]
  },
  {
   "cell_type": "code",
   "execution_count": null,
   "metadata": {},
   "outputs": [],
   "source": []
  }
 ],
 "metadata": {
  "kernelspec": {
   "display_name": "LSST",
   "language": "python",
   "name": "lsst"
  },
  "language_info": {
   "codemirror_mode": {
    "name": "ipython",
    "version": 3
   },
   "file_extension": ".py",
   "mimetype": "text/x-python",
   "name": "python",
   "nbconvert_exporter": "python",
   "pygments_lexer": "ipython3",
   "version": "3.12.9"
  }
 },
 "nbformat": 4,
 "nbformat_minor": 4
}
