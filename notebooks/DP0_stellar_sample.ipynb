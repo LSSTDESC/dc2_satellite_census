{
 "cells": [
  {
   "cell_type": "markdown",
   "metadata": {
    "nbpresent": {
     "id": "0789d321-e15e-44b8-b96e-34b4e993cf16"
    }
   },
   "source": [
    "# Quantifying a Stellar Sample in the DP0 Catalogs\n",
    "\n",
    "**S. Mau**, **A. Drlica-Wagner**\n",
    "\n",
    "Adapted from \"Looking at the \"Object Catalogs\": merged tract-patch catalogs in DC2 Run 1.1p\" by **Michael Wood-Vasey** ([@wmwv](https://github.com/LSSTDESC/DC2-analysis/issues/new?body=@wmwv))"
   ]
  },
  {
   "cell_type": "code",
   "execution_count": 1,
   "metadata": {
    "execution": {
     "iopub.execute_input": "2025-03-03T18:32:52.340406Z",
     "iopub.status.busy": "2025-03-03T18:32:52.339850Z",
     "iopub.status.idle": "2025-03-03T18:32:55.522349Z",
     "shell.execute_reply": "2025-03-03T18:32:55.521161Z",
     "shell.execute_reply.started": "2025-03-03T18:32:52.340343Z"
    },
    "nbpresent": {
     "id": "69694b18-dcc8-463d-8e86-e4fcd572f680"
    }
   },
   "outputs": [],
   "source": [
    "import os\n",
    "\n",
    "import numpy as np\n",
    "from scipy import stats\n",
    "\n",
    "import matplotlib as mpl\n",
    "import matplotlib.pyplot as plt\n",
    "\n",
    "import pandas as pd\n",
    "\n",
    "# Astropy\n",
    "from astropy import units as u\n",
    "from astropy.coordinates import SkyCoord\n",
    "\n",
    "import healpy as hp\n",
    "\n",
    "import fitsio as fits"
   ]
  },
  {
   "cell_type": "code",
   "execution_count": 2,
   "metadata": {
    "execution": {
     "iopub.execute_input": "2025-03-03T18:32:55.524705Z",
     "iopub.status.busy": "2025-03-03T18:32:55.523969Z",
     "iopub.status.idle": "2025-03-03T18:32:55.530440Z",
     "shell.execute_reply": "2025-03-03T18:32:55.529566Z",
     "shell.execute_reply.started": "2025-03-03T18:32:55.524670Z"
    }
   },
   "outputs": [
    {
     "name": "stdout",
     "output_type": "stream",
     "text": [
      "(3.39375, 2.5453124999999996)\n"
     ]
    }
   ],
   "source": [
    "figwidth = (7.1 - 0.3125) / 2  # 3.39375\n",
    "figheight = 4.8 / 6.4 * figwidth  # 2.5453124999999996\n",
    "figsize = (figwidth, figheight)\n",
    "print(figsize)"
   ]
  },
  {
   "cell_type": "code",
   "execution_count": 3,
   "metadata": {
    "execution": {
     "iopub.execute_input": "2025-03-03T18:32:55.531594Z",
     "iopub.status.busy": "2025-03-03T18:32:55.531287Z",
     "iopub.status.idle": "2025-03-03T18:32:55.547167Z",
     "shell.execute_reply": "2025-03-03T18:32:55.546169Z",
     "shell.execute_reply.started": "2025-03-03T18:32:55.531565Z"
    }
   },
   "outputs": [],
   "source": [
    "subplotpars = mpl.gridspec.SubplotParams(\n",
    "    left=0.2,\n",
    "    right=0.95,\n",
    "    bottom=0.2,\n",
    "    top=0.95,\n",
    "    wspace=0.3,\n",
    "    hspace=0.2\n",
    ")"
   ]
  },
  {
   "cell_type": "code",
   "execution_count": 4,
   "metadata": {
    "execution": {
     "iopub.execute_input": "2025-03-03T18:32:55.549292Z",
     "iopub.status.busy": "2025-03-03T18:32:55.548948Z",
     "iopub.status.idle": "2025-03-03T18:32:55.564668Z",
     "shell.execute_reply": "2025-03-03T18:32:55.563686Z",
     "shell.execute_reply.started": "2025-03-03T18:32:55.549258Z"
    }
   },
   "outputs": [],
   "source": [
    "_original_bottom = subplotpars.bottom * figheight\n",
    "_original_top = subplotpars.top * figheight"
   ]
  },
  {
   "cell_type": "code",
   "execution_count": 5,
   "metadata": {
    "execution": {
     "iopub.execute_input": "2025-03-03T18:32:55.566520Z",
     "iopub.status.busy": "2025-03-03T18:32:55.566156Z",
     "iopub.status.idle": "2025-03-03T18:32:55.582082Z",
     "shell.execute_reply": "2025-03-03T18:32:55.581114Z",
     "shell.execute_reply.started": "2025-03-03T18:32:55.566475Z"
    }
   },
   "outputs": [],
   "source": [
    "_new_top = figheight - _original_bottom\n",
    "new_figheight = _original_top / _new_top * figheight\n",
    "new_bottom = _original_bottom / new_figheight\n",
    "new_top = 1 - new_bottom"
   ]
  },
  {
   "cell_type": "code",
   "execution_count": 6,
   "metadata": {
    "execution": {
     "iopub.execute_input": "2025-03-03T18:32:56.606000Z",
     "iopub.status.busy": "2025-03-03T18:32:56.605558Z",
     "iopub.status.idle": "2025-03-03T18:32:56.611328Z",
     "shell.execute_reply": "2025-03-03T18:32:56.610405Z",
     "shell.execute_reply.started": "2025-03-03T18:32:56.605963Z"
    }
   },
   "outputs": [
    {
     "name": "stdout",
     "output_type": "stream",
     "text": [
      "0.831578947368421 0.168421052631579\n"
     ]
    }
   ],
   "source": [
    "print(new_top, new_bottom)"
   ]
  },
  {
   "cell_type": "code",
   "execution_count": 7,
   "metadata": {
    "execution": {
     "iopub.execute_input": "2025-03-03T18:32:56.881462Z",
     "iopub.status.busy": "2025-03-03T18:32:56.881034Z",
     "iopub.status.idle": "2025-03-03T18:32:56.886545Z",
     "shell.execute_reply": "2025-03-03T18:32:56.885654Z",
     "shell.execute_reply.started": "2025-03-03T18:32:56.881424Z"
    }
   },
   "outputs": [],
   "source": [
    "new_figsize = (figwidth, new_figheight)\n",
    "new_subplotpars = mpl.gridspec.SubplotParams(\n",
    "    left=0.2,\n",
    "    right=0.95,\n",
    "    bottom=new_bottom,\n",
    "    top=new_top,\n",
    "    wspace=0.3,\n",
    "    hspace=0.2\n",
    ")"
   ]
  },
  {
   "cell_type": "markdown",
   "metadata": {},
   "source": [
    "# Query Data"
   ]
  },
  {
   "cell_type": "code",
   "execution_count": 8,
   "metadata": {
    "execution": {
     "iopub.execute_input": "2025-03-03T18:33:02.662920Z",
     "iopub.status.busy": "2025-03-03T18:33:02.662344Z",
     "iopub.status.idle": "2025-03-03T18:33:02.775854Z",
     "shell.execute_reply": "2025-03-03T18:33:02.774890Z",
     "shell.execute_reply.started": "2025-03-03T18:33:02.662880Z"
    },
    "nbpresent": {
     "id": "a37e0a04-e349-4229-ba8a-bb96f857d68e"
    }
   },
   "outputs": [],
   "source": [
    "# Import the Rubin TAP service utilities\n",
    "from lsst.rsp import get_tap_service, retrieve_query\n",
    "\n",
    "# Get an instance of the TAP service\n",
    "service = get_tap_service(\"tap\")\n",
    "assert service is not None\n",
    "assert service.baseurl == \"https://data.lsst.cloud/api/tap\"\n"
   ]
  },
  {
   "cell_type": "code",
   "execution_count": 9,
   "metadata": {
    "execution": {
     "iopub.execute_input": "2025-03-03T18:33:03.035849Z",
     "iopub.status.busy": "2025-03-03T18:33:03.035442Z",
     "iopub.status.idle": "2025-03-03T18:33:03.041959Z",
     "shell.execute_reply": "2025-03-03T18:33:03.040815Z",
     "shell.execute_reply.started": "2025-03-03T18:33:03.035814Z"
    }
   },
   "outputs": [],
   "source": [
    "# Define our reference position on the sky and cone radius in arcseconds\n",
    "# to use in all following examples\n",
    "coord = SkyCoord(ra=62.0*u.degree, dec=-37.0*u.degree, frame='icrs')\n",
    "radius = 1 * u.deg"
   ]
  },
  {
   "cell_type": "code",
   "execution_count": 10,
   "metadata": {
    "execution": {
     "iopub.execute_input": "2025-03-03T18:33:03.474167Z",
     "iopub.status.busy": "2025-03-03T18:33:03.473777Z",
     "iopub.status.idle": "2025-03-03T18:33:03.478353Z",
     "shell.execute_reply": "2025-03-03T18:33:03.477432Z",
     "shell.execute_reply.started": "2025-03-03T18:33:03.474136Z"
    }
   },
   "outputs": [],
   "source": [
    "# tract = 3831  # contains (62, -37)"
   ]
  },
  {
   "cell_type": "code",
   "execution_count": 11,
   "metadata": {
    "execution": {
     "iopub.execute_input": "2025-03-03T18:33:03.866919Z",
     "iopub.status.busy": "2025-03-03T18:33:03.866509Z",
     "iopub.status.idle": "2025-03-03T18:33:03.871269Z",
     "shell.execute_reply": "2025-03-03T18:33:03.870336Z",
     "shell.execute_reply.started": "2025-03-03T18:33:03.866883Z"
    }
   },
   "outputs": [],
   "source": [
    "matched_filename = \"obj_matched.csv\""
   ]
  },
  {
   "cell_type": "code",
   "execution_count": 12,
   "metadata": {
    "execution": {
     "iopub.execute_input": "2025-03-03T18:33:04.327943Z",
     "iopub.status.busy": "2025-03-03T18:33:04.327536Z",
     "iopub.status.idle": "2025-03-03T18:33:15.102913Z",
     "shell.execute_reply": "2025-03-03T18:33:15.101858Z",
     "shell.execute_reply.started": "2025-03-03T18:33:04.327910Z"
    }
   },
   "outputs": [],
   "source": [
    "if os.path.exists(matched_filename):\n",
    "    df = pd.read_csv(matched_filename)\n",
    "else:\n",
    "    query = (\n",
    "        f\"SELECT mt.id_truth_type, mt.match_objectId, ts.ra, ts.dec, ts.truth_type, \"\n",
    "        f\"obj.objectId, obj.coord_ra, obj.coord_dec, \"\n",
    "        f\"scisql_nanojanskyToAbMag(obj.g_cModelFlux) AS mag_g, \"\n",
    "        f\"scisql_nanojanskyToAbMagSigma(obj.g_cModelFlux, obj.g_cModelFluxErr) AS mag_err_g, \"\n",
    "        f\"scisql_nanojanskyToAbMag(obj.r_cModelFlux) AS mag_r, \"\n",
    "        f\"scisql_nanojanskyToAbMagSigma(obj.r_cModelFlux, obj.r_cModelFluxErr) AS mag_err_r, \"\n",
    "        f\"scisql_nanojanskyToAbMag(obj.i_cModelFlux) AS mag_i, \"\n",
    "        f\"scisql_nanojanskyToAbMagSigma(obj.i_cModelFlux, obj.i_cModelFluxErr) AS mag_err_i, \"\n",
    "        f\"obj.refExtendedness as extendedness, \"\n",
    "        f\"scisql_nanojanskyToAbMag(ts.flux_g) as truth_mag_g, \"\n",
    "        f\"scisql_nanojanskyToAbMag(ts.flux_r) as truth_mag_r, \"\n",
    "        f\"scisql_nanojanskyToAbMag(ts.flux_i) as truth_mag_i \"\n",
    "        f\"FROM dp02_dc2_catalogs.MatchesTruth AS mt \"\n",
    "        f\"JOIN dp02_dc2_catalogs.TruthSummary AS ts ON mt.id_truth_type = ts.id_truth_type \"\n",
    "        f\"JOIN dp02_dc2_catalogs.Object AS obj ON mt.match_objectId = obj.objectId \"\n",
    "        f\"WHERE CONTAINS(POINT('ICRS', obj.coord_ra, obj.coord_dec), CIRCLE('ICRS', {coord.ra.value}, {coord.dec.value}, {radius.value})) = 1 \"\n",
    "        # f\"AND obj.tract = {tract} \"\n",
    "        # f\"AND obj.detect_isPrimary = 1\"\n",
    "    )\n",
    "    job = service.submit_job(query)\n",
    "\n",
    "    job.run()\n",
    "\n",
    "    job.wait(phases=['COMPLETED', 'ERROR'])\n",
    "    print('Job phase is', job.phase)\n",
    "\n",
    "    df = job.fetch_result().to_table().to_pandas()\n",
    "\n",
    "    df.to_csv(matched_filename)"
   ]
  },
  {
   "cell_type": "code",
   "execution_count": 13,
   "metadata": {
    "execution": {
     "iopub.execute_input": "2025-03-03T18:33:15.104964Z",
     "iopub.status.busy": "2025-03-03T18:33:15.104629Z",
     "iopub.status.idle": "2025-03-03T18:33:15.109215Z",
     "shell.execute_reply": "2025-03-03T18:33:15.108305Z",
     "shell.execute_reply.started": "2025-03-03T18:33:15.104933Z"
    }
   },
   "outputs": [],
   "source": [
    "truth_filename = \"truth.csv\""
   ]
  },
  {
   "cell_type": "code",
   "execution_count": 14,
   "metadata": {
    "execution": {
     "iopub.execute_input": "2025-03-03T18:33:15.110922Z",
     "iopub.status.busy": "2025-03-03T18:33:15.110295Z",
     "iopub.status.idle": "2025-03-03T18:33:32.756893Z",
     "shell.execute_reply": "2025-03-03T18:33:32.755867Z",
     "shell.execute_reply.started": "2025-03-03T18:33:15.110889Z"
    }
   },
   "outputs": [
    {
     "name": "stderr",
     "output_type": "stream",
     "text": [
      "/tmp/ipykernel_636/1397482113.py:2: DtypeWarning: Columns (1) have mixed types. Specify dtype option on import or set low_memory=False.\n",
      "  df_truth = pd.read_csv(truth_filename)\n"
     ]
    }
   ],
   "source": [
    "if os.path.exists(truth_filename):\n",
    "    df_truth = pd.read_csv(truth_filename)\n",
    "else:\n",
    "    query_truth = (\n",
    "        f\"SELECT ts.id, ts.ra, ts.dec, ts.truth_type, \"\n",
    "        f\"scisql_nanojanskyToAbMag(ts.flux_g) as truth_mag_g, \"\n",
    "        f\"scisql_nanojanskyToAbMag(ts.flux_r) as truth_mag_r, \"\n",
    "        f\"scisql_nanojanskyToAbMag(ts.flux_i) as truth_mag_i \"\n",
    "        f\"FROM dp02_dc2_catalogs.TruthSummary AS ts \"\n",
    "        f\"WHERE CONTAINS(POINT('ICRS', ts.ra, ts.dec), CIRCLE('ICRS', {coord.ra.value}, {coord.dec.value}, {radius.value})) = 1 \"\n",
    "    )\n",
    "    job = service.submit_job(query_truth)\n",
    "\n",
    "    job.run()\n",
    "\n",
    "    job.wait(phases=['COMPLETED', 'ERROR'])\n",
    "    print('Job phase is', job.phase)\n",
    "\n",
    "    df_truth = job.fetch_result().to_table().to_pandas()\n",
    "\n",
    "    df_truth.to_csv(truth_filename)"
   ]
  },
  {
   "cell_type": "code",
   "execution_count": 15,
   "metadata": {
    "execution": {
     "iopub.execute_input": "2025-03-03T18:33:32.759521Z",
     "iopub.status.busy": "2025-03-03T18:33:32.759154Z",
     "iopub.status.idle": "2025-03-03T18:33:32.764622Z",
     "shell.execute_reply": "2025-03-03T18:33:32.763666Z",
     "shell.execute_reply.started": "2025-03-03T18:33:32.759479Z"
    },
    "nbpresent": {
     "id": "f27a27c2-5123-420c-8cce-a0242b0b9966"
    }
   },
   "outputs": [
    {
     "name": "stdout",
     "output_type": "stream",
     "text": [
      "1569034 objects\n"
     ]
    }
   ],
   "source": [
    "print(len(df), \"objects\")"
   ]
  },
  {
   "cell_type": "code",
   "execution_count": 16,
   "metadata": {
    "execution": {
     "iopub.execute_input": "2025-03-03T18:33:32.765904Z",
     "iopub.status.busy": "2025-03-03T18:33:32.765604Z",
     "iopub.status.idle": "2025-03-03T18:33:32.779882Z",
     "shell.execute_reply": "2025-03-03T18:33:32.778959Z",
     "shell.execute_reply.started": "2025-03-03T18:33:32.765877Z"
    }
   },
   "outputs": [
    {
     "name": "stdout",
     "output_type": "stream",
     "text": [
      "6877451 truth objects\n"
     ]
    }
   ],
   "source": [
    "print(len(df_truth), \"truth objects\")"
   ]
  },
  {
   "cell_type": "markdown",
   "metadata": {},
   "source": [
    "## Paramaterization of completeness function and magnitute uncertainty"
   ]
  },
  {
   "cell_type": "markdown",
   "metadata": {},
   "source": [
    "### Select good stars"
   ]
  },
  {
   "cell_type": "code",
   "execution_count": 17,
   "metadata": {
    "execution": {
     "iopub.execute_input": "2025-03-03T18:33:32.781252Z",
     "iopub.status.busy": "2025-03-03T18:33:32.780947Z",
     "iopub.status.idle": "2025-03-03T18:33:32.917322Z",
     "shell.execute_reply": "2025-03-03T18:33:32.916300Z",
     "shell.execute_reply.started": "2025-03-03T18:33:32.781225Z"
    }
   },
   "outputs": [],
   "source": [
    "# Matched objects passing S/N threshold\n",
    "snr_threshold = 5\n",
    "mag_err_threshold = 1 / snr_threshold\n",
    "good_snr = df[\n",
    "    (df['mag_err_g'] < mag_err_threshold)\n",
    "    & (df['mag_err_r'] < mag_err_threshold)\n",
    "]"
   ]
  },
  {
   "cell_type": "code",
   "execution_count": 18,
   "metadata": {
    "execution": {
     "iopub.execute_input": "2025-03-03T18:33:32.918878Z",
     "iopub.status.busy": "2025-03-03T18:33:32.918520Z",
     "iopub.status.idle": "2025-03-03T18:33:32.943523Z",
     "shell.execute_reply": "2025-03-03T18:33:32.942438Z",
     "shell.execute_reply.started": "2025-03-03T18:33:32.918848Z"
    }
   },
   "outputs": [],
   "source": [
    "# Matched objects with truth class of stars\n",
    "true_stars = df[df['truth_type'] == 2]"
   ]
  },
  {
   "cell_type": "code",
   "execution_count": 19,
   "metadata": {
    "execution": {
     "iopub.execute_input": "2025-03-03T18:33:32.945009Z",
     "iopub.status.busy": "2025-03-03T18:33:32.944657Z",
     "iopub.status.idle": "2025-03-03T18:33:33.087433Z",
     "shell.execute_reply": "2025-03-03T18:33:33.086449Z",
     "shell.execute_reply.started": "2025-03-03T18:33:32.944978Z"
    }
   },
   "outputs": [],
   "source": [
    "# Matched objects classified as stars (and galaxies)\n",
    "safe_max_extended = 1.0\n",
    "stars = good_snr[good_snr['extendedness'] < safe_max_extended]\n",
    "galaxies = good_snr[good_snr['extendedness'] >= safe_max_extended]"
   ]
  },
  {
   "cell_type": "code",
   "execution_count": 20,
   "metadata": {
    "execution": {
     "iopub.execute_input": "2025-03-03T18:33:33.088900Z",
     "iopub.status.busy": "2025-03-03T18:33:33.088476Z",
     "iopub.status.idle": "2025-03-03T18:33:33.132573Z",
     "shell.execute_reply": "2025-03-03T18:33:33.131562Z",
     "shell.execute_reply.started": "2025-03-03T18:33:33.088867Z"
    }
   },
   "outputs": [],
   "source": [
    "# Matched objects correctly classified as stars\n",
    "# match_stars_class = stars[np.isin(stars['objectId'], true_stars['objectId'])]\n",
    "match_stars_class = stars[np.in1d(stars['objectId'], true_stars['objectId'])]\n",
    "\n",
    "\n",
    "# True stars\n",
    "truth_stars = df_truth[df_truth['truth_type'] == 2]"
   ]
  },
  {
   "cell_type": "code",
   "execution_count": 21,
   "metadata": {
    "execution": {
     "iopub.execute_input": "2025-03-03T18:33:33.135423Z",
     "iopub.status.busy": "2025-03-03T18:33:33.135064Z",
     "iopub.status.idle": "2025-03-03T18:33:33.139780Z",
     "shell.execute_reply": "2025-03-03T18:33:33.138901Z",
     "shell.execute_reply.started": "2025-03-03T18:33:33.135391Z"
    }
   },
   "outputs": [],
   "source": [
    "# print(\"mag, stellar classification eff, stellar detection eff, detected & classified eff\")\n",
    "# out = np.array([centers,\n",
    "#                 nstar_class/ntot_true_star,\n",
    "#                 ntot_true_star/ntot_truth,\n",
    "#                 nstar_class/ntot_truth]).T\n",
    "# print(out)\n",
    "# np.savetxt('eff.csv', out, delimiter=',', header='mag,classifiction_eff,detection_eff,classification_detection_eff')"
   ]
  },
  {
   "cell_type": "markdown",
   "metadata": {},
   "source": [
    "# Efficieny Plot"
   ]
  },
  {
   "cell_type": "code",
   "execution_count": 22,
   "metadata": {
    "execution": {
     "iopub.execute_input": "2025-03-03T18:33:33.141452Z",
     "iopub.status.busy": "2025-03-03T18:33:33.140868Z",
     "iopub.status.idle": "2025-03-03T18:33:33.792149Z",
     "shell.execute_reply": "2025-03-03T18:33:33.791147Z",
     "shell.execute_reply.started": "2025-03-03T18:33:33.141419Z"
    }
   },
   "outputs": [],
   "source": [
    "efficiencies = pd.read_csv(\"eff.csv\")\n",
    "\n",
    "fig, axs = plt.subplots(\n",
    "    1, 1,\n",
    "    figsize=figsize,\n",
    "    subplotpars=subplotpars,\n",
    ")\n",
    "\n",
    "axs.plot(\n",
    "    efficiencies[\"# mag\"],\n",
    "    efficiencies[\"detection_eff\"],\n",
    "    label='Detection',\n",
    "    ls=\":\",\n",
    "    c=\"k\",\n",
    ")  # matched objects with truth class of stars / true stars\n",
    "axs.plot(\n",
    "    efficiencies[\"# mag\"],\n",
    "    efficiencies[\"classifiction_eff\"],\n",
    "    label='Classification',\n",
    "    ls=\"--\",\n",
    "    c=\"k\",\n",
    ")  # matched objects correctly classified as stars / matched objects with truth class of stars\n",
    "axs.plot(\n",
    "    efficiencies[\"# mag\"],\n",
    "    efficiencies[\"classification_detection_eff\"],\n",
    "    label='Detection &\\nClassification',\n",
    "    ls=\"-\",\n",
    "    c=\"r\",\n",
    ")  # matched objects correctly classified as stars / true stars\n",
    "axs.legend(loc=\"lower left\")\n",
    "\n",
    "axs.set_xlabel(\"$r$ [mag]\")\n",
    "axs.set_ylabel(\"Efficiency\")\n",
    "\n",
    "# axs.set_xlim(efficiencies[\"# mag\"].min(), efficiencies[\"# mag\"].max())\n",
    "axs.set_xlim(17, efficiencies[\"# mag\"].max())\n",
    "axs.set_ylim(0, None)\n",
    "\n",
    "plt.savefig(\"efficiencies.pdf\")\n",
    "plt.close()\n",
    "\n",
    "# SM: note that if `mag_r` is used instead of `truth_mag_r`, then some of the\n",
    "#     bins will have values above 1 due to inaccurate mag measurements"
   ]
  },
  {
   "cell_type": "markdown",
   "metadata": {},
   "source": [
    "# Maglim Map"
   ]
  },
  {
   "cell_type": "code",
   "execution_count": 23,
   "metadata": {
    "execution": {
     "iopub.execute_input": "2025-03-03T18:34:22.517892Z",
     "iopub.status.busy": "2025-03-03T18:34:22.516915Z",
     "iopub.status.idle": "2025-03-03T18:34:31.847146Z",
     "shell.execute_reply": "2025-03-03T18:34:31.846099Z",
     "shell.execute_reply.started": "2025-03-03T18:34:22.517850Z"
    },
    "tags": []
   },
   "outputs": [],
   "source": [
    "maglim_map = hp.read_map('/home/smau/WORK/satsim/supreme_dc2_dr6d_v3_r_maglim_psf_wmean.fits.gz')"
   ]
  },
  {
   "cell_type": "code",
   "execution_count": 24,
   "metadata": {
    "execution": {
     "iopub.execute_input": "2025-03-03T18:34:31.849048Z",
     "iopub.status.busy": "2025-03-03T18:34:31.848707Z",
     "iopub.status.idle": "2025-03-03T18:34:31.855294Z",
     "shell.execute_reply": "2025-03-03T18:34:31.854431Z",
     "shell.execute_reply.started": "2025-03-03T18:34:31.849017Z"
    }
   },
   "outputs": [],
   "source": [
    "maglim = maglim_map[hp.ang2pix(4096, coord.ra.value, coord.dec.value, lonlat=True)]"
   ]
  },
  {
   "cell_type": "code",
   "execution_count": 25,
   "metadata": {
    "execution": {
     "iopub.execute_input": "2025-03-03T18:34:31.856620Z",
     "iopub.status.busy": "2025-03-03T18:34:31.856285Z",
     "iopub.status.idle": "2025-03-03T18:34:31.872038Z",
     "shell.execute_reply": "2025-03-03T18:34:31.871116Z",
     "shell.execute_reply.started": "2025-03-03T18:34:31.856592Z"
    }
   },
   "outputs": [
    {
     "name": "stdout",
     "output_type": "stream",
     "text": [
      "26.791002\n"
     ]
    }
   ],
   "source": [
    "print(maglim)"
   ]
  },
  {
   "cell_type": "code",
   "execution_count": 26,
   "metadata": {
    "execution": {
     "iopub.execute_input": "2025-03-03T18:34:31.874555Z",
     "iopub.status.busy": "2025-03-03T18:34:31.874190Z",
     "iopub.status.idle": "2025-03-03T18:34:31.886020Z",
     "shell.execute_reply": "2025-03-03T18:34:31.885006Z",
     "shell.execute_reply.started": "2025-03-03T18:34:31.874523Z"
    }
   },
   "outputs": [],
   "source": [
    "# hp.mollview(maglim_map)"
   ]
  },
  {
   "cell_type": "code",
   "execution_count": 27,
   "metadata": {
    "execution": {
     "iopub.execute_input": "2025-03-03T18:34:31.887324Z",
     "iopub.status.busy": "2025-03-03T18:34:31.887027Z",
     "iopub.status.idle": "2025-03-03T18:34:31.909817Z",
     "shell.execute_reply": "2025-03-03T18:34:31.908670Z",
     "shell.execute_reply.started": "2025-03-03T18:34:31.887296Z"
    }
   },
   "outputs": [],
   "source": [
    "_nbins = 100\n",
    "_bins_x = np.linspace(16, 28, _nbins + 1)\n",
    "_bins_y = np.logspace(-4.1, 0.2, _nbins + 1)\n",
    "H, mag_bins, mag_err_bins, _ = stats.binned_statistic_2d(\n",
    "    true_stars['truth_mag_r'],\n",
    "    true_stars['mag_err_r'],\n",
    "    None,\n",
    "    statistic=\"count\",\n",
    "    bins=[_bins_x, _bins_y],\n",
    ")"
   ]
  },
  {
   "cell_type": "code",
   "execution_count": 28,
   "metadata": {
    "execution": {
     "iopub.execute_input": "2025-03-03T18:34:31.911402Z",
     "iopub.status.busy": "2025-03-03T18:34:31.911055Z",
     "iopub.status.idle": "2025-03-03T18:34:31.929551Z",
     "shell.execute_reply": "2025-03-03T18:34:31.928600Z",
     "shell.execute_reply.started": "2025-03-03T18:34:31.911354Z"
    }
   },
   "outputs": [],
   "source": [
    "mag_err_r, _, _ = stats.binned_statistic(\n",
    "    true_stars['truth_mag_r'],\n",
    "    true_stars['mag_err_r'],\n",
    "    statistic=\"median\",\n",
    "    bins=mag_bins,\n",
    ")\n",
    "mag_centers = (mag_bins[:-1] + mag_bins[1:]) / 2"
   ]
  },
  {
   "cell_type": "code",
   "execution_count": 29,
   "metadata": {
    "execution": {
     "iopub.execute_input": "2025-03-03T18:34:31.931134Z",
     "iopub.status.busy": "2025-03-03T18:34:31.930806Z",
     "iopub.status.idle": "2025-03-03T18:34:31.935214Z",
     "shell.execute_reply": "2025-03-03T18:34:31.934233Z",
     "shell.execute_reply.started": "2025-03-03T18:34:31.931104Z"
    }
   },
   "outputs": [],
   "source": [
    "# print(\"delta_mag, log mag_err_r\")\n",
    "# out = np.array([mag_centers - maglim, np.log10(mag_err_r)]).T\n",
    "# print(out)\n",
    "# np.savetxt('phot.csv', out, delimiter=',', header='delta_mag,log_mag_err')"
   ]
  },
  {
   "cell_type": "markdown",
   "metadata": {},
   "source": [
    "# Photometric Error Plot"
   ]
  },
  {
   "cell_type": "code",
   "execution_count": 30,
   "metadata": {
    "execution": {
     "iopub.execute_input": "2025-03-03T18:34:31.936825Z",
     "iopub.status.busy": "2025-03-03T18:34:31.936237Z",
     "iopub.status.idle": "2025-03-03T18:34:32.917433Z",
     "shell.execute_reply": "2025-03-03T18:34:32.916436Z",
     "shell.execute_reply.started": "2025-03-03T18:34:31.936794Z"
    }
   },
   "outputs": [],
   "source": [
    "photometric_err = pd.read_csv(\"phot.csv\")\n",
    "\n",
    "# we are using `truth_mag_r` because we're using these photometric error models\n",
    "# to generate simulations which will then be used to generate realistic photometry\n",
    "\n",
    "fig, axs = plt.subplots(\n",
    "    1, 1,\n",
    "    figsize=new_figsize,\n",
    "    subplotpars=new_subplotpars,\n",
    ")\n",
    "\n",
    "axs.pcolormesh(\n",
    "    mag_bins,\n",
    "    mag_err_bins,\n",
    "    H.T,\n",
    "    norm=\"log\",\n",
    "    cmap='binary',\n",
    "    rasterized=True,\n",
    ")\n",
    "# axs.plot(\n",
    "#     mag_centers,\n",
    "#     mag_err_r,\n",
    "#     c='r',\n",
    "#     ls=\":\",\n",
    "#     label=\"DP0.2\",\n",
    "# )\n",
    "axs.plot(\n",
    "    photometric_err[\"# delta_mag\"] + maglim,\n",
    "    10**photometric_err[\"log_mag_err\"],\n",
    "    c='r',\n",
    "    label=\"DP0.1\",\n",
    ")\n",
    "axs.axvline(\n",
    "    maglim,\n",
    "    ls=':',\n",
    "    color='k',\n",
    ")\n",
    "# axs.axhline(\n",
    "#     0.1085,\n",
    "#     ls='--',\n",
    "#     color='k',\n",
    "# )\n",
    "\n",
    "axs.set_yscale(\"log\")\n",
    "axs.set_xlabel('$r$ [mag]')\n",
    "axs.set_ylabel('$\\sigma_r$ [mag]')\n",
    "\n",
    "\n",
    "def get_delta_mag(mag):\n",
    "    return mag - maglim\n",
    "\n",
    "def get_abs_mag(mag):\n",
    "    return mag + maglim\n",
    "\n",
    "secax = axs.secondary_xaxis(\"top\", functions=(get_delta_mag, get_abs_mag))\n",
    "secax.set_xlabel('$\\Delta r$ [mag]')\n",
    "# plt.legend()\n",
    "\n",
    "plt.savefig(\"photometric_err.pdf\")\n",
    "plt.close()"
   ]
  },
  {
   "cell_type": "markdown",
   "metadata": {},
   "source": [
    "---"
   ]
  },
  {
   "cell_type": "code",
   "execution_count": 31,
   "metadata": {
    "execution": {
     "iopub.execute_input": "2025-03-03T18:34:32.918851Z",
     "iopub.status.busy": "2025-03-03T18:34:32.918510Z",
     "iopub.status.idle": "2025-03-03T18:34:32.923674Z",
     "shell.execute_reply": "2025-03-03T18:34:32.922794Z",
     "shell.execute_reply.started": "2025-03-03T18:34:32.918820Z"
    }
   },
   "outputs": [
    {
     "name": "stdout",
     "output_type": "stream",
     "text": [
      "2.5453124999999996\n"
     ]
    }
   ],
   "source": [
    "print(figheight)"
   ]
  },
  {
   "cell_type": "code",
   "execution_count": 32,
   "metadata": {
    "execution": {
     "iopub.execute_input": "2025-03-03T18:34:32.926154Z",
     "iopub.status.busy": "2025-03-03T18:34:32.925840Z",
     "iopub.status.idle": "2025-03-03T18:34:32.942564Z",
     "shell.execute_reply": "2025-03-03T18:34:32.941607Z",
     "shell.execute_reply.started": "2025-03-03T18:34:32.926126Z"
    }
   },
   "outputs": [
    {
     "name": "stdout",
     "output_type": "stream",
     "text": [
      "(7.1, 3.022558593749999)\n"
     ]
    }
   ],
   "source": [
    "figwidth = 7.1\n",
    "# figheight = 4.8 / 6.4 * figwidth  # 2.5453124999999996\n",
    "figsize = (figwidth, new_figheight)\n",
    "print(figsize)"
   ]
  },
  {
   "cell_type": "code",
   "execution_count": 33,
   "metadata": {
    "execution": {
     "iopub.execute_input": "2025-03-03T18:34:32.943893Z",
     "iopub.status.busy": "2025-03-03T18:34:32.943572Z",
     "iopub.status.idle": "2025-03-03T18:34:32.959828Z",
     "shell.execute_reply": "2025-03-03T18:34:32.958773Z",
     "shell.execute_reply.started": "2025-03-03T18:34:32.943863Z"
    }
   },
   "outputs": [],
   "source": [
    "new_subplotpars = mpl.gridspec.SubplotParams(\n",
    "    left=0.1,\n",
    "    right=0.95,\n",
    "    bottom=new_bottom,\n",
    "    top=new_top,\n",
    "    wspace=0.3,\n",
    "    hspace=0.2\n",
    ")"
   ]
  },
  {
   "cell_type": "code",
   "execution_count": 40,
   "metadata": {
    "execution": {
     "iopub.execute_input": "2025-03-03T18:43:21.571412Z",
     "iopub.status.busy": "2025-03-03T18:43:21.570857Z",
     "iopub.status.idle": "2025-03-03T18:43:23.130694Z",
     "shell.execute_reply": "2025-03-03T18:43:23.129408Z",
     "shell.execute_reply.started": "2025-03-03T18:43:21.571350Z"
    }
   },
   "outputs": [],
   "source": [
    "\n",
    "def get_delta_mag(mag):\n",
    "    return mag - maglim\n",
    "\n",
    "def get_abs_mag(mag):\n",
    "    return mag + maglim\n",
    "\n",
    "fig, axs = plt.subplots(\n",
    "    1, 2,\n",
    "    figsize=figsize,\n",
    "    subplotpars=new_subplotpars,\n",
    "    sharex=True,\n",
    ")\n",
    "\n",
    "axs[0].axvline(\n",
    "    maglim,\n",
    "    ls=':',\n",
    "    color='gray',\n",
    "    # lw=2,\n",
    ")\n",
    "axs[0].plot(\n",
    "    efficiencies[\"# mag\"],\n",
    "    efficiencies[\"detection_eff\"],\n",
    "    label='Detection',\n",
    "    ls=\"-\",\n",
    "    c=\"gray\",\n",
    "    # lw=2,\n",
    ")  # matched objects with truth class of stars / true stars\n",
    "axs[0].plot(\n",
    "    efficiencies[\"# mag\"],\n",
    "    efficiencies[\"classifiction_eff\"],\n",
    "    label='Classification',\n",
    "    ls=\"-\",\n",
    "    c=\"k\",\n",
    "    # lw=2,\n",
    ")  # matched objects correctly classified as stars / matched objects with truth class of stars\n",
    "axs[0].plot(\n",
    "    efficiencies[\"# mag\"],\n",
    "    efficiencies[\"classification_detection_eff\"],\n",
    "    label='Detection &\\nClassification',\n",
    "    ls=\"-\",\n",
    "    c=\"r\",\n",
    "    # lw=2,\n",
    ")  # matched objects correctly classified as stars / true stars\n",
    "\n",
    "secax = axs[0].secondary_xaxis(\"top\", functions=(get_delta_mag, get_abs_mag))\n",
    "secax.set_xlabel('$\\Delta r$ [mag]')\n",
    "\n",
    "axs[0].legend(loc=\"lower left\")\n",
    "\n",
    "axs[0].set_xlabel(\"$r$ [mag]\")\n",
    "axs[0].set_ylabel(\"Efficiency\")\n",
    "\n",
    "# axs[0].set_xlim(efficiencies[\"# mag\"].min(), efficiencies[\"# mag\"].max())\n",
    "# axs[0].set_xlim(16, efficiencies[\"# mag\"].max())\n",
    "# axs[0].set_xlim(16, 28)\n",
    "axs[0].set_ylim(0, None)\n",
    "\n",
    "\n",
    "axs[1].pcolormesh(\n",
    "    mag_bins,\n",
    "    mag_err_bins,\n",
    "    H.T,\n",
    "    norm=\"log\",\n",
    "    cmap='binary',\n",
    "    rasterized=True,\n",
    ")\n",
    "# axs.plot(\n",
    "#     mag_centers,\n",
    "#     mag_err_r,\n",
    "#     c='r',\n",
    "#     ls=\":\",\n",
    "#     label=\"DP0.2\",\n",
    "# )\n",
    "axs[1].plot(\n",
    "    photometric_err[\"# delta_mag\"] + maglim,\n",
    "    10**photometric_err[\"log_mag_err\"],\n",
    "    c='r',\n",
    "    label=\"Median Photometric Error\",\n",
    "    # lw=2,\n",
    ")\n",
    "axs[1].axvline(\n",
    "    maglim,\n",
    "    ls=':',\n",
    "    color='gray',\n",
    "    # lw=2,\n",
    ")\n",
    "# axs.axhline(\n",
    "#     0.1085,\n",
    "#     ls='--',\n",
    "#     color='k',\n",
    "# )\n",
    "axs[1].legend(loc=\"upper left\")\n",
    "\n",
    "axs[1].set_yscale(\"log\")\n",
    "axs[1].set_xlabel('$r$ [mag]')\n",
    "axs[1].set_ylabel('$\\sigma_r$ [mag]')\n",
    "\n",
    "# xmin = (photometric_err[\"# delta_mag\"] + maglim).min()\n",
    "# xmax = (photometric_err[\"# delta_mag\"] + maglim).max()\n",
    "xmin = 17\n",
    "xmax = 28\n",
    "axs[1].set_xlim(xmin, xmax)\n",
    "\n",
    "secax = axs[1].secondary_xaxis(\"top\", functions=(get_delta_mag, get_abs_mag))\n",
    "secax.set_xlabel('$\\Delta r$ [mag]')\n",
    "# plt.legend()\n",
    "\n",
    "plt.savefig(\"efficiency-photerr.pdf\")\n",
    "plt.close()"
   ]
  },
  {
   "cell_type": "code",
   "execution_count": null,
   "metadata": {},
   "outputs": [],
   "source": []
  }
 ],
 "metadata": {
  "kernelspec": {
   "display_name": "LSST",
   "language": "python",
   "name": "lsst"
  },
  "language_info": {
   "codemirror_mode": {
    "name": "ipython",
    "version": 3
   },
   "file_extension": ".py",
   "mimetype": "text/x-python",
   "name": "python",
   "nbconvert_exporter": "python",
   "pygments_lexer": "ipython3",
   "version": "3.12.9"
  }
 },
 "nbformat": 4,
 "nbformat_minor": 4
}
